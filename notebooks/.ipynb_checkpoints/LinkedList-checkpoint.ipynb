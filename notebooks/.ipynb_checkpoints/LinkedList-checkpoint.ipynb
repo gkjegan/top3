{
 "cells": [
  {
   "cell_type": "markdown",
   "metadata": {},
   "source": [
    "## Python Linked List Implementation"
   ]
  },
  {
   "cell_type": "markdown",
   "metadata": {},
   "source": [
    "In Python, there is no default built-in linked list. To implement one, we need to define a basic element that can hold the data and have reference to next and/or previous element.\n",
    "\n",
    "The basic element will look like one below"
   ]
  },
  {
   "cell_type": "code",
   "execution_count": 4,
   "metadata": {},
   "outputs": [],
   "source": [
    "class Element:\n",
    "    def __init__(self, value):\n",
    "        self.value = value\n",
    "        self.next = None"
   ]
  },
  {
   "cell_type": "markdown",
   "metadata": {},
   "source": [
    "The class element has two attributes.\n",
    "1. value to store the value of the element\n",
    "2. next to store the reference of the next Element\n",
    "\n",
    "Now, Let's define the basic LinkedList class."
   ]
  },
  {
   "cell_type": "code",
   "execution_count": 5,
   "metadata": {},
   "outputs": [],
   "source": [
    "class LinkedList:\n",
    "    def __init__(self, head=None):\n",
    "        self.head = head"
   ]
  },
  {
   "cell_type": "markdown",
   "metadata": {},
   "source": [
    "### Question 1:\n",
    "Write a append method to add element to LinkedList\n",
    "\n",
    "** Algorithm **\n",
    "<br>*method name:* append\n",
    "<br>*Input:* new_element\n",
    "<br>*Ouput:* pass\n",
    "Approach:\n",
    "1. Assign new_element to self.head if self.head is None.\n",
    "2. self.head is not None, loop through self.head.next until last element and as new_element to next.\n",
    "\n",
    "** Sudo code **\n",
    "1. current = self.head\n",
    "2. if current == None then self.head = new_element\n",
    "3. while current.next is not None, current = current.next\n",
    "4. current.next = new_element\n"
   ]
  },
  {
   "cell_type": "code",
   "execution_count": 7,
   "metadata": {},
   "outputs": [],
   "source": [
    "## Implement append method for LinkedList\n",
    "class LinkedList:\n",
    "    def __init__(self, head=None):\n",
    "        self.head = head\n",
    "        \n",
    "    def append(self, new_element):\n",
    "        current = self.head\n",
    "        if current == None:\n",
    "            self.head = new_element\n",
    "        else:\n",
    "            while (current.next):\n",
    "                current = current.next\n",
    "            current.next = new_element\n",
    "        pass\n",
    "    \n",
    "    '''Adding a display method for testing'''\n",
    "    def display(self):\n",
    "        current = self.head\n",
    "        output = []\n",
    "        while(current):\n",
    "            output.append(current.value)\n",
    "            current = current.next\n",
    "        return output"
   ]
  },
  {
   "cell_type": "markdown",
   "metadata": {},
   "source": [
    "** Testing append method in Linked List **\n",
    "1. Re-using the same elements in the linked list can cause infite loop"
   ]
  },
  {
   "cell_type": "code",
   "execution_count": 8,
   "metadata": {},
   "outputs": [
    {
     "data": {
      "text/plain": [
       "[1, 2, 3]"
      ]
     },
     "execution_count": 8,
     "metadata": {},
     "output_type": "execute_result"
    }
   ],
   "source": [
    "ema1 = Element(1) \n",
    "ema2 = Element(2) \n",
    "ema3 = Element(3) \n",
    "llone = LinkedList(ema1)\n",
    "\n",
    "# No Print\n",
    "llone.display()\n",
    "\n",
    "#llone.append(ema1)\n",
    "llone.append(ema2)\n",
    "llone.append(ema3)\n",
    "# print 1,2,3\n",
    "llone.display()\n"
   ]
  },
  {
   "cell_type": "markdown",
   "metadata": {},
   "source": [
    "### Question 2:\n",
    "write a get position method to return a element given a position.\n",
    "\n",
    "** Algorithm **\n",
    "<br>*method name:* get_position\n",
    "<br>*Input:* position (int)\n",
    "<br>*Ouput:* element in linkedlist or None\n",
    "<img src=\"../images/linkedlist.png\" alt=\"LinkedList\" width=\"300px\"/>\n",
    "Approach:\n",
    "1. Assume the first position is 1.\n",
    "2. If the input position is < 1, return None.\n",
    "3. Take the self.head as current element\n",
    "4. Starting from 1 and iterate until postion and check if the list is not ended\n",
    "5. If the position is reached, return the element\n",
    "\n",
    "** Sudo code **\n",
    "1. if position < 1 then return None\n",
    "2. current = self.head\n",
    "3. pos  = 1\n",
    "4. while current and pos <= position:\n",
    "    5. if pos == position:\n",
    "        6. return current\n",
    "    7. current = current.next\n",
    "    8. pos += 1\n",
    "9. return None"
   ]
  },
  {
   "cell_type": "code",
   "execution_count": 15,
   "metadata": {},
   "outputs": [],
   "source": [
    "## Implement append method for LinkedList\n",
    "class LinkedList:\n",
    "    def __init__(self, head=None):\n",
    "        self.head = head\n",
    "        \n",
    "    def append(self, new_element):\n",
    "        current = self.head\n",
    "        if current == None:\n",
    "            self.head = new_element\n",
    "        else:\n",
    "            while (current.next):\n",
    "                current = current.next\n",
    "            current.next = new_element\n",
    "        pass\n",
    "    \n",
    "    def get_position(self, position):\n",
    "        if position < 1:\n",
    "            return None\n",
    "        counter = 1\n",
    "        current = self.head\n",
    "        while current and counter <= position:\n",
    "            if counter == position:\n",
    "                return current\n",
    "            current = current.next\n",
    "            counter += 1\n",
    "        return None\n",
    "    \n",
    "    '''Adding a display method for testing'''\n",
    "    def display(self):\n",
    "        current = self.head\n",
    "        output = []\n",
    "        while(current):\n",
    "            output.append(current.value)\n",
    "            current = current.next\n",
    "        return output"
   ]
  },
  {
   "cell_type": "markdown",
   "metadata": {},
   "source": [
    "** Testing get_position method in Linked List **"
   ]
  },
  {
   "cell_type": "code",
   "execution_count": 17,
   "metadata": {},
   "outputs": [
    {
     "name": "stdout",
     "output_type": "stream",
     "text": [
      "None\n",
      "1\n",
      "2\n",
      "3\n",
      "None\n",
      "None\n"
     ]
    }
   ],
   "source": [
    "emgp1 = Element(1) \n",
    "emgp2 = Element(2) \n",
    "emgp3 = Element(3) \n",
    "llgp = LinkedList(emgp1)\n",
    "\n",
    "# No Print\n",
    "llgp.display()\n",
    "\n",
    "#llone.append(ema1)\n",
    "llgp.append(emgp2)\n",
    "llgp.append(emgp3)\n",
    "# print 1,2,3\n",
    "llgp.display()\n",
    "\n",
    "print(llgp.get_position(0))\n",
    "print(llgp.get_position(1).value)\n",
    "print(llgp.get_position(2).value)\n",
    "print(llgp.get_position(3).value)\n",
    "print(llgp.get_position(4))\n",
    "print(llgp.get_position(400))"
   ]
  },
  {
   "cell_type": "markdown",
   "metadata": {},
   "source": [
    "### Question 3:\n",
    "write a insert method to insert a element in a position.\n",
    "\n",
    "** Algorithm **\n",
    "<br>*method name:* insert\n",
    "<br>*Input:* new_element (Element), position (int)\n",
    "<br>*Ouput:* pass\n",
    "<img src=\"../images/linkedlist.png\" alt=\"LinkedList\" width=\"300px\"/>\n",
    "Approach:\n",
    "1. If the position < 1, do nothing.\n",
    "2. If the position is 1, assign the first to new_element.next and assign new_element to self.head\n",
    "3. if the position is > 1, iterate from 1 to position-1, get the position-1 element.\n",
    "4. If position-1 is None, append the new element\n",
    "5. if the position-1 is Not None, assign position-1.next to new_element.next, new_element to position-1.next\n",
    "\n",
    "** Sudo code **\n",
    "1. if position >= 1\n",
    "    2. current = self.head\n",
    "    3. if current and position == 1:\n",
    "        4. new_element.next = current\n",
    "        5. self.head = new_element\n",
    "    6. else:\n",
    "        7. prev_element = get_position(position-1)\n",
    "        8. if prev_element == None:\n",
    "            9. append(new_element)\n",
    "        10. else:\n",
    "            11. new_element.next = prev_element.next\n",
    "            12. prev_element.next = new_element\n"
   ]
  },
  {
   "cell_type": "code",
   "execution_count": 18,
   "metadata": {},
   "outputs": [],
   "source": [
    "## Implement append method for LinkedList\n",
    "class LinkedList:\n",
    "    def __init__(self, head=None):\n",
    "        self.head = head\n",
    "        \n",
    "    def append(self, new_element):\n",
    "        current = self.head\n",
    "        if current == None:\n",
    "            self.head = new_element\n",
    "        else:\n",
    "            while (current.next):\n",
    "                current = current.next\n",
    "            current.next = new_element\n",
    "        pass\n",
    "    \n",
    "    def get_position(self, position):\n",
    "        if position < 1:\n",
    "            return None\n",
    "        counter = 1\n",
    "        current = self.head\n",
    "        while current and counter <= position:\n",
    "            if counter == position:\n",
    "                return current\n",
    "            current = current.next\n",
    "            counter += 1\n",
    "        return None\n",
    "    \n",
    "    def insert(self, new_element, position):\n",
    "        if position >= 1:\n",
    "            current = self.head\n",
    "            if position == 1:\n",
    "                new_element.next = current\n",
    "                self.head = new_element\n",
    "            else:\n",
    "                prev_element = self.get_position(position-1)\n",
    "                if prev_element == None:\n",
    "                    self.append(new_element)\n",
    "                else:\n",
    "                    new_element.next = prev_element.next\n",
    "                    prev_element.next = new_element\n",
    "        pass\n",
    "    \n",
    "    '''Adding a display method for testing'''\n",
    "    def display(self):\n",
    "        current = self.head\n",
    "        output = []\n",
    "        while(current):\n",
    "            output.append(current.value)\n",
    "            current = current.next\n",
    "        return output"
   ]
  },
  {
   "cell_type": "markdown",
   "metadata": {},
   "source": [
    "** Testing insert method in Linked List **"
   ]
  },
  {
   "cell_type": "code",
   "execution_count": 22,
   "metadata": {},
   "outputs": [
    {
     "name": "stdout",
     "output_type": "stream",
     "text": [
      "[1]\n",
      "[1, 2]\n",
      "[1, 3, 2, 4]\n"
     ]
    }
   ],
   "source": [
    "emi1 = Element(1) \n",
    "emi2 = Element(2) \n",
    "emi3 = Element(3) \n",
    "emi4 = Element(4) \n",
    "lli = LinkedList(emi1)\n",
    "\n",
    "# No Print\n",
    "print(lli.display())\n",
    "\n",
    "#llone.append(ema1)\n",
    "lli.insert( emi2, 5)\n",
    "# print 1,2,3\n",
    "print(lli.display())\n",
    "\n",
    "lli.insert(emi3, 2)\n",
    "lli.insert(emi4, 20)\n",
    "print(lli.display())"
   ]
  },
  {
   "cell_type": "markdown",
   "metadata": {},
   "source": [
    "### Question 4:\n",
    "write a remove method to remove a first occuring element from the list.\n",
    "\n",
    "** Algorithm **\n",
    "<br>*method name:* remove\n",
    "<br>*Input:* value\n",
    "<br>*Ouput:* pass\n",
    "<img src=\"../images/linkedlist.png\" alt=\"LinkedList\" width=\"300px\"/>\n",
    "Approach:\n",
    "1. assign self.head to current\n",
    "2. track a int called counter\n",
    "3. while current is not None\n",
    "    4. if current.value is not value, current = current.next and counter +=1\n",
    "    5. else: \n",
    "        6. if counter == 1, self.head = current.next\n",
    "        7. else, \n",
    "            8. get previous element\n",
    "            9. assign current.next to previous.next\n",
    " \n",
    "\n",
    "** Sudo code **\n",
    "1. current = self.head\n",
    "2. counter = 1\n",
    "2. while current:\n",
    "    3. if value != current.value:\n",
    "        4. current = current.next\n",
    "        5. counter +=1\n",
    "    6. else:\n",
    "        7. if counter == 1\n",
    "            8. self.head = current.next\n",
    "        9. else:\n",
    "            10. prev_element = get_postion(counter-1)\n",
    "            11. new_element.next = prev_element.next\n",
    "            12. prev_element.next = new_element\n",
    "            "
   ]
  },
  {
   "cell_type": "code",
   "execution_count": 43,
   "metadata": {},
   "outputs": [],
   "source": [
    "## Implement append method for LinkedList\n",
    "class LinkedList:\n",
    "    def __init__(self, head=None):\n",
    "        self.head = head\n",
    "        \n",
    "    def append(self, new_element):\n",
    "        current = self.head\n",
    "        if current == None:\n",
    "            self.head = new_element\n",
    "        else:\n",
    "            while (current.next):\n",
    "                current = current.next\n",
    "            current.next = new_element\n",
    "        pass\n",
    "    \n",
    "    def get_position(self, position):\n",
    "        if position < 1:\n",
    "            return None\n",
    "        counter = 1\n",
    "        current = self.head\n",
    "        while current and counter <= position:\n",
    "            if counter == position:\n",
    "                return current\n",
    "            current = current.next\n",
    "            counter += 1\n",
    "        return None\n",
    "    \n",
    "    def insert(self, new_element, position):\n",
    "        if position >= 1:\n",
    "            current = self.head\n",
    "            if position == 1:\n",
    "                new_element.next = current\n",
    "                self.head = new_element\n",
    "            else:\n",
    "                prev_element = self.get_position(position-1)\n",
    "                if prev_element == None:\n",
    "                    self.append(new_element)\n",
    "                else:\n",
    "                    new_element.next = prev_element.next\n",
    "                    prev_element.next = new_element\n",
    "        pass\n",
    "\n",
    "    def remove(self, value):\n",
    "        current = self.head\n",
    "        previous = None\n",
    "        counter = 1\n",
    "        while (current):\n",
    "            if value != current.value:\n",
    "                counter +=1\n",
    "                previous = current\n",
    "                current = current.next\n",
    "            else:\n",
    "                if counter == 1:\n",
    "                    self.head = current.next\n",
    "                else:\n",
    "                    previous.next = current.next\n",
    "                break\n",
    "        pass\n",
    "    \n",
    "    '''Adding a display method for testing'''\n",
    "    def display(self):\n",
    "        current = self.head\n",
    "        output = []\n",
    "        while(current):\n",
    "            output.append(current.value)\n",
    "            current = current.next\n",
    "        return output"
   ]
  },
  {
   "cell_type": "markdown",
   "metadata": {},
   "source": [
    "** Testing remove method in Linked List **"
   ]
  },
  {
   "cell_type": "code",
   "execution_count": 44,
   "metadata": {},
   "outputs": [
    {
     "name": "stdout",
     "output_type": "stream",
     "text": [
      "[1]\n",
      "[1, 2]\n",
      "[1, 3, 2, 4]\n",
      "[3, 2, 4]\n"
     ]
    }
   ],
   "source": [
    "emr1 = Element(1) \n",
    "emr2 = Element(2) \n",
    "emr3 = Element(3) \n",
    "emr4 = Element(4) \n",
    "llr = LinkedList(emr1)\n",
    "\n",
    "# No Print\n",
    "print(llr.display())\n",
    "\n",
    "#llone.append(ema1)\n",
    "llr.insert( emr2, 5)\n",
    "# print 1,2,3\n",
    "print(llr.display())\n",
    "\n",
    "llr.insert(emr3, 2)\n",
    "llr.insert(emr4, 20)\n",
    "print(llr.display())\n",
    "\n",
    "llr.remove(1)\n",
    "print(llr.display())"
   ]
  },
  {
   "cell_type": "code",
   "execution_count": 45,
   "metadata": {},
   "outputs": [
    {
     "name": "stdout",
     "output_type": "stream",
     "text": [
      "[3, 4]\n"
     ]
    }
   ],
   "source": [
    "llr.insert(emr3, 3)\n",
    "print(llr.display())"
   ]
  },
  {
   "cell_type": "code",
   "execution_count": 46,
   "metadata": {},
   "outputs": [
    {
     "name": "stdout",
     "output_type": "stream",
     "text": [
      "[3]\n"
     ]
    }
   ],
   "source": [
    "llr.remove(4)\n",
    "print(llr.display())"
   ]
  },
  {
   "cell_type": "code",
   "execution_count": null,
   "metadata": {},
   "outputs": [],
   "source": []
  },
  {
   "cell_type": "code",
   "execution_count": null,
   "metadata": {},
   "outputs": [],
   "source": []
  }
 ],
 "metadata": {
  "kernelspec": {
   "display_name": "Python 3",
   "language": "python",
   "name": "python3"
  },
  "language_info": {
   "codemirror_mode": {
    "name": "ipython",
    "version": 3
   },
   "file_extension": ".py",
   "mimetype": "text/x-python",
   "name": "python",
   "nbconvert_exporter": "python",
   "pygments_lexer": "ipython3",
   "version": "3.6.2"
  }
 },
 "nbformat": 4,
 "nbformat_minor": 2
}
